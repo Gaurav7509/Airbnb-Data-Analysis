# Airbnb Data Analysis - Review 1: Data Preprocessing & EDA

import pandas as pd
import matplotlib.pyplot as plt
import seaborn as sns
import plotly.express as px
import os

# Load your main dataset
df = pd.read_csv("../data/market_analysis_2019.csv")

# Initial Overview
print("Shape:", df.shape)
print("Columns:", df.columns)
print(df.head())

# Handling missing values
df = df.dropna()
df = df.drop_duplicates()

# Summary statistics
print(df.describe())

# Ensure plots folder exists
os.makedirs("../plots", exist_ok=True)

# Example plot: price distribution (adjust 'price' to your actual column name)
if 'price' in df.columns:
    plt.figure(figsize=(10,6))
    sns.histplot(df['price'], bins=100, kde=True)
    plt.title("Price Distribution")
    plt.xlabel("Price")
    plt.ylabel("Count")
    plt.xlim(0, 5000)
    plt.savefig("../plots/price_distribution.png")
    plt.close()

# Example map plot (requires latitude and longitude)
if {'latitude', 'longitude', 'price'}.issubset(df.columns):
    fig = px.scatter_mapbox(df.head(1000),
                            lat="latitude",
                            lon="longitude",
                            color="price",
                            mapbox_style="carto-positron",
                            zoom=9,
                            title="Sample Property Map")
    fig.write_html("../plots/listings_map.html")

print("EDA complete. Visualizations saved.")
